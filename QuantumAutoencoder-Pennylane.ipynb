{
 "cells": [
  {
   "cell_type": "code",
   "execution_count": 1,
   "metadata": {},
   "outputs": [],
   "source": [
    "import pennylane as qml\n",
    "import numpy as np\n",
    "from itertools import permutations,combinations\n",
    "import matplotlib.pyplot as plt\n",
    "%matplotlib inline"
   ]
  },
  {
   "cell_type": "markdown",
   "metadata": {},
   "source": [
    "# Autoencoder\n",
    "### Circuits to train the optimal parameters for autoencoder"
   ]
  },
  {
   "cell_type": "code",
   "execution_count": 16,
   "metadata": {},
   "outputs": [],
   "source": [
    "def ctr_rot(paras,ctr=None,targ=None):\n",
    "    \"\"\"\n",
    "    Decomposition of a Control-rotation gate to 3 single-qubit rotation gates and 2 CNOTs.\n",
    "\n",
    "    paras:\n",
    "        list: List of 3 parameters for RZ, RY and RZ rotation respectively.\n",
    "    ctr:\n",
    "        int: Wire index for control qubit.\n",
    "    targ:\n",
    "        int: Wire index for target qubit.\n",
    "\n",
    "    \"\"\"\n",
    "    if ctr is None or targ is None:\n",
    "            raise ValueError(f\"Need to assign wires for control and target qubits.\")\n",
    "    if len(paras) != 3:\n",
    "            raise ValueError(f\"3 Parameters needed; Got {len(paras)}.\")\n",
    "    qml.RZ(paras[0], wires=targ)\n",
    "    qml.CNOT(wires=[ctr,targ])\n",
    "    qml.RY(paras[1], wires=targ)\n",
    "    qml.CNOT(wires=[ctr,targ])\n",
    "    qml.RZ(paras[2], wires=targ)\n",
    "\n",
    "def general_two_qubit(paras,q0=None,q1=None):\n",
    "    \"\"\"\n",
    "    Decomposition of a general two-qubit gate to 15 single-qubit rotation gates and 3 CNOTs.\n",
    "    Ref: arXiv:quant-ph/0308006\n",
    "\n",
    "    paras:\n",
    "        list: List of 15 parameters.\n",
    "    ctr:\n",
    "        int: Wire index for qubit 0.\n",
    "    targ:\n",
    "        int: Wire index for qubit 1.      \n",
    "    \"\"\"\n",
    "    if q0 is None or q1 is None:\n",
    "            raise ValueError(f\"Need to assign wires for q0 and q1.\")\n",
    "    if len(paras) != 15:\n",
    "            raise ValueError(f\"15 Parameters needed; Got {len(paras)}.\")\n",
    "    qml.RZ(paras[0], wires=q0)\n",
    "    qml.RY(paras[1], wires=q0)\n",
    "    qml.RZ(paras[2], wires=q0)\n",
    "\n",
    "    qml.RZ(paras[3], wires=q1)\n",
    "    qml.RY(paras[4], wires=q1)\n",
    "    qml.RZ(paras[5], wires=q1)\n",
    "\n",
    "    qml.CNOT(wires=[q1,q0])\n",
    "    qml.RZ(paras[6], wires=q0)\n",
    "    qml.RY(paras[7], wires=q1)\n",
    "    qml.CNOT(wires=[q0,q1])\n",
    "    qml.RY(paras[8], wires=q1)\n",
    "    qml.CNOT(wires=[q1,q0])\n",
    "\n",
    "    qml.RZ(paras[9], wires=q0)\n",
    "    qml.RY(paras[10], wires=q0)\n",
    "    qml.RZ(paras[11], wires=q0)\n",
    "\n",
    "    qml.RZ(paras[12], wires=q1)\n",
    "    qml.RY(paras[13], wires=q1)\n",
    "    qml.RZ(paras[14], wires=q1)\n",
    "\n",
    "def main_train(n_comp,input_data=None,model=\"B\",optimizer=\"GradientDescent\",opt_steps=500):\n",
    "    \"\"\"\n",
    "    Args:\n",
    "        n_comp (int): Number of compressed qubit, n_comp < n_inp\n",
    "        input_data (list[list[float],...]): The data to be encoded into the amplitude of the quantum state, followed with normalization.\n",
    "        model (str): The autoencoder model of circuit: \n",
    "            Two choices \"A\" and \"B\" corresponding to the two circuits shown in Fig. 3 (arXiv:1612.02806v2).\n",
    "        optimizer (str): Choice of optimizer:\n",
    "            \"GradientDescent\", \"AdagradOptimizer\", or more to be added.\n",
    "        opt_steps (int): Optimization steps.\n",
    "        \n",
    "    Returns:\n",
    "        params (list[float]): Optimal parameters after optimziation.\n",
    "        cost_data (list[float]): Cost function values.\n",
    "    \"\"\"\n",
    "    \n",
    "    n_inp = int(np.log2(len(input_data[0])))  # Num of input qubits\n",
    "    anc = 1     # Ancilla qubit\n",
    "    totqubit = n_inp+n_inp-n_comp+anc\n",
    "    allwires = [i for i in range(totqubit)]\n",
    "    dev = qml.device('default.qubit', wires=totqubit)  \n",
    "        \n",
    "    @qml.qnode(dev)\n",
    "    def circuit(params,inp=None):\n",
    "        if len(inp) != 2**n_inp:\n",
    "                    raise ValueError(f\"Input state-vector length wrong! Got length {len(inp)}\")\n",
    "        \n",
    "        # Qubit encoding. Here |0>^n_trash is default reference state.\n",
    "        qml.AmplitudeEmbedding(features=inp, wires=allwires[:n_inp],normalize=True)\n",
    "        \n",
    "        if model==\"A\":\n",
    "            if len(params) != 15*n_inp*(n_inp-1)/2:\n",
    "                        raise ValueError(f\"The number of parameters must be {15*n_inp*(n_inp-1)/2}; Got length {len(params)}.\")\n",
    "            \n",
    "            # Prepare U\n",
    "            paracnt = 0\n",
    "            comb = list(combinations(allwires[:n_inp], 2))\n",
    "            for i in comb:\n",
    "                general_two_qubit(paras=params[paracnt:paracnt+15],q0=i[0],q1=i[1])\n",
    "                paracnt += 15\n",
    "                \n",
    "        elif model==\"B\":\n",
    "            if len(params) != 3*n_inp*(n_inp-1)+6*n_inp:\n",
    "                        raise ValueError(f\"The number of parameters must be {3*n_inp*(n_inp-1)+6*n_inp}; Got length {len(params)}.\")\n",
    "                    \n",
    "            # Prepare U\n",
    "            paracnt = 0\n",
    "            for i in range(n_inp):\n",
    "                qml.RZ(params[paracnt], wires=i)\n",
    "                qml.RY(params[paracnt+1], wires=i)\n",
    "                qml.RZ(params[paracnt+2], wires=i)\n",
    "                paracnt += 3\n",
    "\n",
    "            perm = list(permutations(allwires[:n_inp], 2))\n",
    "            for i in perm:\n",
    "                ctr_rot(paras=params[paracnt:paracnt+3],ctr=i[0],targ=i[1])\n",
    "                paracnt += 3\n",
    "\n",
    "            for i in range(n_inp):\n",
    "                qml.RZ(params[paracnt], wires=i)\n",
    "                qml.RY(params[paracnt+1], wires=i)\n",
    "                qml.RZ(params[paracnt+2], wires=i)\n",
    "                paracnt += 3\n",
    "        else:\n",
    "            raise ValueError(f\"Invalid model chosen!\")\n",
    "\n",
    "        # SWAP Test\n",
    "        qml.Hadamard(wires=totqubit-1)\n",
    "        for i in allwires[n_comp:n_inp]:\n",
    "            qml.CSWAP(wires=[totqubit-1,i,i+n_inp-n_comp])\n",
    "        qml.Hadamard(wires=totqubit-1)\n",
    "\n",
    "        return qml.expval(qml.PauliZ(totqubit-1))\n",
    "    \n",
    "    def cost(params):\n",
    "        \"\"\"\n",
    "        Cost function. Defined by Eq. 7 (C2) in the paper arXiv:1612.02806v2.\n",
    "        \"\"\"\n",
    "        C2 = 0\n",
    "        for inp in input_data:\n",
    "            res = circuit(params,inp) \n",
    "            C2 = C2 + res\n",
    "        return 1-C2/len(input_data)\n",
    "    \n",
    "    # Optimization\n",
    "    if model==\"A\":\n",
    "        init_params = np.random.random(int(15*n_inp*(n_inp-1)/2))\n",
    "    elif model==\"B\":   \n",
    "        init_params = np.random.random(int(3*n_inp*(n_inp-1)+6*n_inp) )\n",
    "    \n",
    "    if optimizer==\"GradientDescent\":\n",
    "        opt = qml.GradientDescentOptimizer(stepsize=0.1)\n",
    "    elif optimizer==\"AdagradOptimizer\":\n",
    "        opt = qml.AdagradOptimizer(stepsize=0.1)\n",
    "    else:\n",
    "         raise ValueError(f\"Invalid optimizer chosen!\")\n",
    "    \n",
    "    params = init_params\n",
    "    cost_data = []\n",
    "    print(f\"Cost at step 0:     {cost(params)}\")\n",
    "    for i in range(opt_steps):\n",
    "        params = opt.step(cost, params)\n",
    "        cost_data.append(cost(params))\n",
    "        if (i+1)%(5) == 0:\n",
    "            print(f\"Cost after step {i+1}: {cost_data[-1]}\")\n",
    "        if cost_data[-1]<10e-4: # minimum cost threshold\n",
    "            print(f\"Cost after step {i+1}: {cost_data[-1]}\")\n",
    "            print(\"-------------------\")\n",
    "            print(\"Cost below threshold (10e-4). Optimization stop here.\")\n",
    "            break\n",
    "    #fig, ax = qml.draw_mpl(circuit, decimals=2)(params,input_data[0])\n",
    "    #display(plt.show())\n",
    "    return params.tolist(),cost_data"
   ]
  },
  {
   "cell_type": "markdown",
   "metadata": {},
   "source": [
    "### Define the train set and trian the model\n",
    "#### Here we use 2x2 binary image data as train set data"
   ]
  },
  {
   "cell_type": "code",
   "execution_count": 3,
   "metadata": {
    "scrolled": true
   },
   "outputs": [
    {
     "name": "stdout",
     "output_type": "stream",
     "text": [
      "Cost at step 0:     0.36360420685474804\n"
     ]
    },
    {
     "name": "stderr",
     "output_type": "stream",
     "text": [
      "d:\\ProgramData\\Anaconda3\\lib\\site-packages\\pennylane\\_grad.py:100: UserWarning: Starting with PennyLane v0.21.0, when using Autograd, inputs have to explicitly specify requires_grad=True (or the argnum argument must be passed) in order for trainable parameters to be identified.\n",
      "  UserWarning,\n"
     ]
    },
    {
     "name": "stdout",
     "output_type": "stream",
     "text": [
      "Cost after step 5: 0.28976065461096145\n",
      "Cost after step 10: 0.215987151712295\n",
      "Cost after step 15: 0.15114301041469214\n",
      "Cost after step 20: 0.10126208591651453\n",
      "Cost after step 25: 0.06678120582825708\n",
      "Cost after step 30: 0.044524068551183626\n",
      "Cost after step 35: 0.030622876423503476\n",
      "Cost after step 40: 0.021985597416422475\n",
      "Cost after step 45: 0.0165357424231799\n",
      "Cost after step 50: 0.012990739755016412\n",
      "Cost after step 55: 0.01058919027321148\n",
      "Cost after step 60: 0.008886147195560357\n",
      "Cost after step 65: 0.0076219130047483485\n",
      "Cost after step 70: 0.0066435430806092155\n",
      "Cost after step 75: 0.005859375643259224\n",
      "Cost after step 80: 0.005213074044195132\n",
      "Cost after step 85: 0.004668879676383408\n",
      "Cost after step 90: 0.004203222025823905\n",
      "Cost after step 95: 0.0037999153947800846\n",
      "Cost after step 100: 0.003447379076980117\n",
      "Cost after step 105: 0.0031370033104886064\n",
      "Cost after step 110: 0.0028621686674171753\n",
      "Cost after step 115: 0.002617642110824381\n",
      "Cost after step 120: 0.0023991933874889515\n",
      "Cost after step 125: 0.0022033427888723534\n",
      "Cost after step 130: 0.002027189112943306\n",
      "Cost after step 135: 0.0018682879857645496\n",
      "Cost after step 140: 0.0017245628270539104\n",
      "Cost after step 145: 0.0015942377101679783\n",
      "Cost after step 150: 0.0014757854232765322\n",
      "Cost after step 155: 0.0013678864404728097\n",
      "Cost after step 160: 0.001269395963091613\n",
      "Cost after step 165: 0.0011793170898124483\n",
      "Cost after step 170: 0.001096778745305782\n",
      "Cost after step 175: 0.0010210173711041604\n",
      "Cost after step 177: 0.0009924572023323197\n",
      "-------------------\n",
      "Cost below threshold (10e-4). Optimization stop here.\n"
     ]
    }
   ],
   "source": [
    "m = [[1,0,0,1],[0,1,1,0],[0,1,1,0],[0,1,1,0],[0,1,1,0],[0,1,1,0],[0,1,1,0],[1,0,0,1]]\n",
    "res,c = main_train(n_comp=1,input_data=m,model=\"A\",optimizer=\"GradientDescent\") "
   ]
  },
  {
   "cell_type": "code",
   "execution_count": 4,
   "metadata": {},
   "outputs": [
    {
     "data": {
      "image/png": "[encoded data removed]",
      "text/plain": [
       "<Figure size 432x288 with 1 Axes>"
      ]
     },
     "metadata": {
      "needs_background": "light"
     },
     "output_type": "display_data"
    },
    {
     "data": {
      "text/plain": [
       "None"
      ]
     },
     "metadata": {},
     "output_type": "display_data"
    }
   ],
   "source": [
    "x =np.linspace(1, len(c), len(c))\n",
    "plt.plot(x, c)\n",
    "plt.title(\"Optimization of Cost\")\n",
    "plt.xlabel(\"Number of cost function evalutions\")\n",
    "plt.ylabel(\"Cost Function Value (1-C_2)\")\n",
    "plt.yscale(\"log\")\n",
    "display(plt.show())"
   ]
  },
  {
   "cell_type": "markdown",
   "metadata": {},
   "source": [
    "# Autoencoder-Decoder\n",
    "### With the optimal parameters, prepare the testing circuit of encoder-decoder."
   ]
  },
  {
   "cell_type": "code",
   "execution_count": 5,
   "metadata": {},
   "outputs": [],
   "source": [
    "def general_two_qubit_dagger(paras,q0=None,q1=None):\n",
    "    \"\"\"\n",
    "    Decomposition of a general two-qubit gate dagger to 15 single-qubit rotation gates and 3 CNOTs.\n",
    "    Ref: arXiv:quant-ph/0308006\n",
    "\n",
    "    paras:\n",
    "        list: List of 15 parameters.\n",
    "    ctr:\n",
    "        int: Wire index for qubit 0.\n",
    "    targ:\n",
    "        int: Wire index for qubit 1.      \n",
    "    \"\"\"\n",
    "    if q0 is None or q1 is None:\n",
    "            raise ValueError(f\"Need to assign wires for q0 and q1.\")\n",
    "    if len(paras) != 15:\n",
    "            raise ValueError(f\"15 Parameters needed; Got {len(paras)}.\")\n",
    "    qml.RZ(paras[0], wires=q1)\n",
    "    qml.RY(paras[1], wires=q1)\n",
    "    qml.RZ(paras[2], wires=q1)\n",
    "\n",
    "    qml.RZ(paras[3], wires=q0)\n",
    "    qml.RY(paras[4], wires=q0)\n",
    "    qml.RZ(paras[5], wires=q0)\n",
    "\n",
    "    qml.CNOT(wires=[q1,q0])\n",
    "    qml.RY(paras[6], wires=q1)\n",
    "    qml.CNOT(wires=[q0,q1])\n",
    "    qml.RY(paras[7], wires=q1)\n",
    "    qml.RZ(paras[8], wires=q0)\n",
    "    qml.CNOT(wires=[q1,q0])\n",
    "\n",
    "    qml.RZ(paras[9], wires=q1)\n",
    "    qml.RY(paras[10], wires=q1)\n",
    "    qml.RZ(paras[11], wires=q1)\n",
    "\n",
    "    qml.RZ(paras[12], wires=q0)\n",
    "    qml.RY(paras[13], wires=q0)\n",
    "    qml.RZ(paras[14], wires=q0)\n",
    "        \n",
    "def main_test(n_comp,params,input_data=None,model=\"B\"):\n",
    "    \"\"\"\n",
    "    Args:\n",
    "        n_comp (int): Number of compressed qubit, n_comp < n_inp.\n",
    "        params (list[float]): Optimal parameters after optimziation.\n",
    "        input_data (list[list[float],...]): The test set data, followed with normalization.\n",
    "        model (str): The autoencoder model of circuit: \n",
    "            Two choices \"A\" and \"B\" corresponding to the two circuits shown in Fig. 3 (arXiv:1612.02806v2).\n",
    "        \n",
    "    Returns:\n",
    "        output (list[float]): The output after decoding the compressed infomation, with normalization.\n",
    "    \"\"\"\n",
    "    \n",
    "    n_inp = int(np.log2(len(input_data)))  # Num of input qubits\n",
    "    totqubit = n_inp+n_inp-n_comp\n",
    "    allwires = [i for i in range(totqubit)]\n",
    "    dev2 = qml.device('default.qubit', wires=totqubit)  \n",
    "\n",
    "    @qml.qnode(dev2)\n",
    "    def test_circuit(params,inp=None):\n",
    "        if len(inp) != 2**n_inp:\n",
    "                    raise ValueError(f\"Input state-vector length wrong! Got length {len(inp)}\")\n",
    "        \n",
    "        # Apply Encoder\n",
    "        ## Initializing the qubit with input data\n",
    "        qml.AmplitudeEmbedding(features=inp, wires=allwires[:n_inp],normalize=True)\n",
    "    \n",
    "        if model==\"A\":\n",
    "            if len(params) != 15*n_inp*(n_inp-1)/2:\n",
    "                        raise ValueError(f\"The number of parameters must be {15*n_inp*(n_inp-1)/2}; Got length {len(params)}.\")\n",
    "            \n",
    "            ### Prepare U\n",
    "            paracnt = 0\n",
    "            comb = list(combinations(allwires[:n_inp], 2))\n",
    "            for i in comb:\n",
    "                general_two_qubit(paras=params[paracnt:paracnt+15],q0=i[0],q1=i[1])\n",
    "                paracnt += 15\n",
    "                \n",
    "        elif model==\"B\":\n",
    "            if len(params) != 3*n_inp*(n_inp-1)+6*n_inp:\n",
    "                        raise ValueError(f\"The number of parameters must be {3*n_inp*(n_inp-1)+6*n_inp}; Got length {len(params)}.\")\n",
    "                    \n",
    "            ### Prepare U\n",
    "            paracnt = 0\n",
    "            for i in range(n_inp):\n",
    "                qml.RZ(params[paracnt], wires=i)\n",
    "                qml.RY(params[paracnt+1], wires=i)\n",
    "                qml.RZ(params[paracnt+2], wires=i)\n",
    "                paracnt += 3\n",
    "            perm = list(permutations(allwires[:n_inp], 2))\n",
    "            for i in perm:\n",
    "                ctr_rot(paras=params[paracnt:paracnt+3],ctr=i[0],targ=i[1])\n",
    "                paracnt += 3\n",
    "            for i in range(n_inp):\n",
    "                qml.RZ(params[paracnt], wires=i)\n",
    "                qml.RY(params[paracnt+1], wires=i)\n",
    "                qml.RZ(params[paracnt+2], wires=i)\n",
    "                paracnt += 3\n",
    "        else:\n",
    "            raise ValueError(f\"Invalid model chosen!\")\n",
    "        \n",
    "        \n",
    "        # Apply Decoder\n",
    "        rev_params = (-1*params).tolist()\n",
    "        rev_params.reverse()\n",
    "        all_wires2 = allwires[:n_comp]+allwires[n_inp:]\n",
    "        \n",
    "        if model==\"A\":\n",
    "            ### Prepare U_dagger\n",
    "            paracnt = 0\n",
    "            comb = list(combinations(all_wires2, 2))\n",
    "            comb.reverse()\n",
    "            for i in comb:\n",
    "                general_two_qubit_dagger(paras=rev_params[paracnt:paracnt+15],q0=i[0],q1=i[1])\n",
    "                paracnt += 15 \n",
    "                \n",
    "        elif model==\"B\":\n",
    "            inv_wires = all_wires2.copy()\n",
    "            inv_wires.reverse()\n",
    "            \n",
    "            ### Prepare U_dagger\n",
    "            paracnt = 0\n",
    "            for i in inv_wires:\n",
    "                qml.RZ(rev_params[paracnt], wires=i)\n",
    "                qml.RY(rev_params[paracnt+1], wires=i)\n",
    "                qml.RZ(rev_params[paracnt+2], wires=i)\n",
    "                paracnt += 3\n",
    "            perm = list(permutations(all_wires2, 2))\n",
    "            perm.reverse()     \n",
    "            for i in perm:\n",
    "                ctr_rot(paras=rev_params[paracnt:paracnt+3],ctr=i[0],targ=i[1])\n",
    "                paracnt += 3\n",
    "            for i in inv_wires:\n",
    "                qml.RZ(rev_params[paracnt], wires=i)\n",
    "                qml.RY(rev_params[paracnt+1], wires=i)\n",
    "                qml.RZ(rev_params[paracnt+2], wires=i)\n",
    "                paracnt += 3\n",
    "        else:\n",
    "            raise ValueError(f\"Invalid model chosen!\") \n",
    "        return qml.probs(wires=all_wires2)\n",
    "\n",
    "    output = test_circuit(params,inp=input_data)\n",
    "    #fig, ax = qml.draw_mpl(test_circuit, decimals=2)(params,input_data)\n",
    "    #display(plt.show())\n",
    "    return np.sqrt(output)"
   ]
  },
  {
   "cell_type": "markdown",
   "metadata": {},
   "source": [
    "# Feed test set data and compare output with input"
   ]
  },
  {
   "cell_type": "code",
   "execution_count": 7,
   "metadata": {},
   "outputs": [
    {
     "name": "stdout",
     "output_type": "stream",
     "text": [
      "After Normalization:\n",
      "Input data:  [0.         0.70710678 0.70710678 0.        ]\n",
      "Output data: [0.00517783 0.70131296 0.71281474 0.00533522]\n"
     ]
    }
   ],
   "source": [
    "inp = [0,1,1,0]\n",
    "outp = main_test(n_comp=1,params=res,input_data=inp,model=\"A\")\n",
    "print(\"After Normalization:\")\n",
    "norm_input = [float(i)/np.linalg.norm(inp) for i in inp]\n",
    "print(f\"Input data:  {np.round(norm_input,8)}\")  # Print normalized input data\n",
    "print(f\"Output data: {outp}\") # Print normalized output"
   ]
  },
  {
   "cell_type": "code",
   "execution_count": 8,
   "metadata": {},
   "outputs": [
    {
     "name": "stdout",
     "output_type": "stream",
     "text": [
      "After Normalization:\n",
      "Input data:  [0.65653216 0.26261287 0.26261287 0.65653216]\n",
      "Output data: [0.6296955  0.25967646 0.26909548 0.68091067]\n"
     ]
    }
   ],
   "source": [
    "inp = [5,2,2,5]\n",
    "outp = main_test(n_comp=1,params=res,input_data=inp,model=\"A\")\n",
    "print(\"After Normalization:\")\n",
    "norm_input = [float(i)/np.linalg.norm(inp) for i in inp]\n",
    "print(f\"Input data:  {np.round(norm_input,8)}\")  # Print normalized input data\n",
    "print(f\"Output data: {outp}\") # Print normalized output"
   ]
  },
  {
   "cell_type": "code",
   "execution_count": 9,
   "metadata": {},
   "outputs": [
    {
     "name": "stdout",
     "output_type": "stream",
     "text": [
      "After Normalization:\n",
      "Input data:  [0.63644583 0.15911146 0.23866719 0.71600156]\n",
      "Output data: [0.6495943  0.20049888 0.20949982 0.70280671]\n"
     ]
    }
   ],
   "source": [
    "inp = [8,2,3,9]\n",
    "outp = main_test(n_comp=1,params=res,input_data=inp,model=\"A\")\n",
    "print(\"After Normalization:\")\n",
    "norm_input = [float(i)/np.linalg.norm(inp) for i in inp]\n",
    "print(f\"Input data:  {np.round(norm_input,8)}\")  # Print normalized input data\n",
    "print(f\"Output data: {outp}\") # Print normalized output"
   ]
  },
  {
   "cell_type": "markdown",
   "metadata": {},
   "source": [
    "# Demonstration with 8x8 handwriting image."
   ]
  },
  {
   "cell_type": "markdown",
   "metadata": {},
   "source": [
    "Import a dataset of 8x8 handwriting images."
   ]
  },
  {
   "cell_type": "code",
   "execution_count": 11,
   "metadata": {},
   "outputs": [
    {
     "name": "stderr",
     "output_type": "stream",
     "text": [
      "d:\\ProgramData\\Anaconda3\\lib\\site-packages\\sklearn\\datasets\\base.py:550: DeprecationWarning: `np.int` is a deprecated alias for the builtin `int`. To silence this warning, use `int` by itself. Doing this will not modify any behavior and is safe. When replacing `np.int`, you may wish to use e.g. `np.int64` or `np.int32` to specify the precision. If you wish to review your current use, check the release note link for additional information.\n",
      "Deprecated in NumPy 1.20; for more details and guidance: https://numpy.org/devdocs/release/1.20.0-notes.html#deprecations\n",
      "  target = data[:, -1].astype(np.int)\n"
     ]
    },
    {
     "data": {
      "image/png": "[encoded data removed]",
      "text/plain": [
       "<Figure size 720x288 with 5 Axes>"
      ]
     },
     "metadata": {
      "needs_background": "light"
     },
     "output_type": "display_data"
    }
   ],
   "source": [
    "from sklearn.datasets import load_digits\n",
    "digits = load_digits()\n",
    "\n",
    "plt.figure(figsize=(10,4))\n",
    "for index, (image, label) in enumerate(zip(digits.data[0:5], digits.target[0:5])):\n",
    "    plt.subplot(1, 5, index + 1)\n",
    "    plt.imshow(np.reshape(image, (8,8)), cmap=plt.cm.gray)\n",
    "    plt.title('Training: %i\\n' % label, fontsize = 14);"
   ]
  },
  {
   "cell_type": "markdown",
   "metadata": {},
   "source": [
    "To simiplify the problem, here I only use digit 0 and digit 1. \n",
    "\n",
    "And to save training time, I prepare 10 images for training set and 3 images for test set."
   ]
  },
  {
   "cell_type": "code",
   "execution_count": 12,
   "metadata": {},
   "outputs": [],
   "source": [
    "from sklearn.model_selection import train_test_split\n",
    "X_train, X_test, y_train, y_test = train_test_split(digits.data, digits.target, test_size=0.25, random_state=0)\n",
    "\n",
    "def get_01(X,y):\n",
    "    idx = np.logical_or(np.equal(y,0) ,  np.equal(y,1))\n",
    "    X = X[idx,:]\n",
    "    y = y[idx]\n",
    "    return X,y\n",
    "\n",
    "X_test,y_test = get_01(X_test,y_test)\n",
    "X_train,y_train = get_01(X_train,y_train)\n",
    "X_train,y_train = X_train[1:11],y_train[1:11]\n",
    "X_test,y_test = X_test[2:5],y_test[2:5]"
   ]
  },
  {
   "cell_type": "code",
   "execution_count": 13,
   "metadata": {},
   "outputs": [
    {
     "data": {
      "image/png": "[encoded data removed]",
      "text/plain": [
       "<Figure size 1080x288 with 10 Axes>"
      ]
     },
     "metadata": {
      "needs_background": "light"
     },
     "output_type": "display_data"
    }
   ],
   "source": [
    "plt.figure(figsize=(15,4))\n",
    "for index, (image, label) in enumerate(zip(X_train, y_train)):\n",
    "    plt.subplot(1, 10, index + 1)\n",
    "    plt.imshow(np.reshape(image, (8,8)), cmap=plt.cm.gray)\n",
    "    plt.title('Training: %i\\n' % label, fontsize = 10);"
   ]
  },
  {
   "cell_type": "markdown",
   "metadata": {},
   "source": [
    "##### Training with autoencoder model A. Compress 64 bit data (6 qubit) to 4 qubit quantum data."
   ]
  },
  {
   "cell_type": "code",
   "execution_count": 17,
   "metadata": {
    "scrolled": true
   },
   "outputs": [
    {
     "name": "stdout",
     "output_type": "stream",
     "text": [
      "Cost at step 0:     0.6581118213423771\n"
     ]
    },
    {
     "name": "stderr",
     "output_type": "stream",
     "text": [
      "d:\\ProgramData\\Anaconda3\\lib\\site-packages\\pennylane\\_grad.py:100: UserWarning: Starting with PennyLane v0.21.0, when using Autograd, inputs have to explicitly specify requires_grad=True (or the argnum argument must be passed) in order for trainable parameters to be identified.\n",
      "  UserWarning,\n"
     ]
    },
    {
     "name": "stdout",
     "output_type": "stream",
     "text": [
      "Cost after step 5: 0.3622248851502159\n",
      "Cost after step 10: 0.2766852477002345\n",
      "Cost after step 15: 0.24551175674874026\n",
      "Cost after step 20: 0.22723732577472622\n",
      "Cost after step 25: 0.21453892755340287\n",
      "Cost after step 30: 0.2051144320031254\n",
      "Cost after step 35: 0.19779988762908718\n",
      "Cost after step 40: 0.191902304588916\n",
      "Cost after step 45: 0.18698886875166054\n",
      "Cost after step 50: 0.1827836729677852\n",
      "Cost after step 55: 0.17910733566557702\n",
      "Cost after step 60: 0.17583985132815805\n",
      "Cost after step 65: 0.17289771194311787\n",
      "Cost after step 70: 0.17022009293534945\n",
      "Cost after step 75: 0.16776073523510404\n",
      "Cost after step 80: 0.16548327944694896\n",
      "Cost after step 85: 0.16335858177095974\n",
      "Cost after step 90: 0.16136309502185409\n",
      "Cost after step 95: 0.15947778611984642\n",
      "Cost after step 100: 0.15768731610901\n",
      "Cost after step 105: 0.15597935996854806\n",
      "Cost after step 110: 0.15434402164316996\n",
      "Cost after step 115: 0.1527733324716145\n",
      "Cost after step 120: 0.15126082998100399\n",
      "Cost after step 125: 0.14980121293572457\n",
      "Cost after step 130: 0.14839006527182208\n",
      "Cost after step 135: 0.14702363932042617\n",
      "Cost after step 140: 0.14569868819957565\n",
      "Cost after step 145: 0.1444123380163036\n",
      "Cost after step 150: 0.14316199191402246\n",
      "Cost after step 155: 0.14194525950420334\n",
      "Cost after step 160: 0.14075990654611048\n",
      "Cost after step 165: 0.13960382077951805\n",
      "Cost after step 170: 0.13847499058383583\n",
      "Cost after step 175: 0.1373714936916235\n",
      "Cost after step 180: 0.13629149359343773\n",
      "Cost after step 185: 0.13523324159122918\n",
      "Cost after step 190: 0.134195082728904\n",
      "Cost after step 195: 0.13317546407501535\n",
      "Cost after step 200: 0.13217294406515967\n",
      "Cost after step 205: 0.13118620183441343\n",
      "Cost after step 210: 0.13021404568183392\n",
      "Cost after step 215: 0.12925542000761892\n",
      "Cost after step 220: 0.12830941024571385\n",
      "Cost after step 225: 0.12737524547884627\n",
      "Cost after step 230: 0.12645229856798978\n",
      "Cost after step 235: 0.12554008375382075\n",
      "Cost after step 240: 0.1246382517949488\n",
      "Cost after step 245: 0.12374658279691941\n",
      "Cost after step 250: 0.12286497695905108\n",
      "Cost after step 255: 0.12199344352353914\n",
      "Cost after step 260: 0.12113208825416155\n",
      "Cost after step 265: 0.12028109980115187\n",
      "Cost after step 270: 0.1194407353243776\n",
      "Cost after step 275: 0.11861130575035728\n",
      "Cost after step 280: 0.11779316102970816\n",
      "Cost after step 285: 0.11698667574179422\n",
      "Cost after step 290: 0.11619223536367085\n",
      "Cost after step 295: 0.11541022348230323\n",
      "Cost after step 300: 0.1146410101843861\n",
      "Cost after step 305: 0.11388494180886133\n",
      "Cost after step 310: 0.11314233219522285\n",
      "Cost after step 315: 0.11241345550852644\n",
      "Cost after step 320: 0.11169854067099239\n",
      "Cost after step 325: 0.1109977673825997\n",
      "Cost after step 330: 0.11031126367009114\n",
      "Cost after step 335: 0.10963910486698525\n",
      "Cost after step 340: 0.10898131389683063\n",
      "Cost after step 345: 0.10833786270903811\n",
      "Cost after step 350: 0.10770867470078527\n",
      "Cost after step 355: 0.10709362794993127\n",
      "Cost after step 360: 0.10649255908166855\n",
      "Cost after step 365: 0.1059052675956561\n",
      "Cost after step 370: 0.10533152048907302\n",
      "Cost after step 375: 0.10477105702409406\n",
      "Cost after step 380: 0.10422359350423138\n",
      "Cost after step 385: 0.10368882794213441\n",
      "Cost after step 390: 0.10316644452062818\n",
      "Cost after step 395: 0.10265611776832917\n",
      "Cost after step 400: 0.10215751639029125\n",
      "Cost after step 405: 0.10167030671217758\n",
      "Cost after step 410: 0.10119415571304946\n",
      "Cost after step 415: 0.10072873363657919\n",
      "Cost after step 420: 0.10027371618328973\n",
      "Cost after step 425: 0.09982878629698777\n",
      "Cost after step 430: 0.09939363556705083\n",
      "Cost after step 435: 0.09896796527479645\n",
      "Cost after step 440: 0.09855148711671635\n",
      "Cost after step 445: 0.09814392364022273\n",
      "Cost after step 450: 0.09774500842913958\n",
      "Cost after step 455: 0.09735448607613983\n",
      "Cost after step 460: 0.09697211197858557\n",
      "Cost after step 465: 0.0965976519924775\n",
      "Cost after step 470: 0.0962308819768587\n",
      "Cost after step 475: 0.09587158725826372\n",
      "Cost after step 480: 0.09551956204170364\n",
      "Cost after step 485: 0.09517460879148487\n",
      "Cost after step 490: 0.09483653760183997\n",
      "Cost after step 495: 0.0945051655742365\n",
      "Cost after step 500: 0.09418031621504197\n"
     ]
    }
   ],
   "source": [
    "res,c = main_train(n_comp=4,input_data=X_train,model=\"A\",optimizer=\"GradientDescent\") "
   ]
  },
  {
   "cell_type": "code",
   "execution_count": 18,
   "metadata": {},
   "outputs": [
    {
     "data": {
      "image/png": "[encoded data removed]",
      "text/plain": [
       "<Figure size 432x288 with 1 Axes>"
      ]
     },
     "metadata": {
      "needs_background": "light"
     },
     "output_type": "display_data"
    },
    {
     "data": {
      "text/plain": [
       "None"
      ]
     },
     "metadata": {},
     "output_type": "display_data"
    }
   ],
   "source": [
    "x =np.linspace(1, len(c), len(c))\n",
    "plt.plot(x, c)\n",
    "plt.title(\"Optimization of Cost\")\n",
    "plt.xlabel(\"Number of cost function evalutions\")\n",
    "plt.ylabel(\"Cost Function Value (1-C_2)\")\n",
    "plt.yscale(\"log\")\n",
    "display(plt.show())"
   ]
  },
  {
   "cell_type": "code",
   "execution_count": 19,
   "metadata": {},
   "outputs": [
    {
     "name": "stdout",
     "output_type": "stream",
     "text": [
      "Input data, before encode:\n"
     ]
    },
    {
     "data": {
      "image/png": "[encoded data removed]",
      "text/plain": [
       "<Figure size 360x288 with 3 Axes>"
      ]
     },
     "metadata": {
      "needs_background": "light"
     },
     "output_type": "display_data"
    },
    {
     "name": "stdout",
     "output_type": "stream",
     "text": [
      "Output data, after decode:\n"
     ]
    },
    {
     "data": {
      "image/png": "[encoded data removed]",
      "text/plain": [
       "<Figure size 360x288 with 3 Axes>"
      ]
     },
     "metadata": {
      "needs_background": "light"
     },
     "output_type": "display_data"
    }
   ],
   "source": [
    "X_test_decode = []\n",
    "for j in range(len(X_test)):\n",
    "    X_test_decode.append(list(main_test(n_comp=4,params=res,input_data=X_test[j],model=\"A\")))\n",
    "\n",
    "plt.figure(figsize=(5,4))\n",
    "print(\"Input data, before encode:\")\n",
    "for index, (image, label) in enumerate(zip(X_test, y_test)):\n",
    "    plt.subplot(1, 3, index + 1)\n",
    "    plt.imshow(np.reshape(image, (8,8)), cmap=plt.cm.gray)\n",
    "plt.show()\n",
    "\n",
    "plt.figure(figsize=(5,4))\n",
    "print(\"Output data, after decode:\")\n",
    "for index, (image, label) in enumerate(zip(X_test_decode, y_test)):\n",
    "    plt.subplot(1, 3, index + 1)\n",
    "    plt.imshow(np.reshape(image, (8,8)), cmap=plt.cm.gray)\n",
    "plt.show()"
   ]
  },
  {
   "cell_type": "markdown",
   "metadata": {},
   "source": [
    "##### Training with autoencoder model B. Compress 64 bit data (6 qubit) to 4 qubit quantum info."
   ]
  },
  {
   "cell_type": "code",
   "execution_count": 20,
   "metadata": {
    "scrolled": true
   },
   "outputs": [
    {
     "name": "stdout",
     "output_type": "stream",
     "text": [
      "Cost at step 0:     0.8498726018933858\n",
      "Cost after step 5: 0.8222489409332625\n",
      "Cost after step 10: 0.7689169781812166\n",
      "Cost after step 15: 0.6601340282566612\n",
      "Cost after step 20: 0.5253116734116154\n",
      "Cost after step 25: 0.4522439041869494\n",
      "Cost after step 30: 0.41471363147763396\n",
      "Cost after step 35: 0.38568334352784706\n",
      "Cost after step 40: 0.3607640646223439\n",
      "Cost after step 45: 0.3393154757445973\n",
      "Cost after step 50: 0.32089909805549843\n",
      "Cost after step 55: 0.3050471417541518\n",
      "Cost after step 60: 0.2913160237495228\n",
      "Cost after step 65: 0.2793229162851524\n",
      "Cost after step 70: 0.26875561044756535\n",
      "Cost after step 75: 0.2593673408005699\n",
      "Cost after step 80: 0.25096579921687234\n",
      "Cost after step 85: 0.2434014728388344\n",
      "Cost after step 90: 0.2365574945512534\n",
      "Cost after step 95: 0.23034156961182028\n",
      "Cost after step 100: 0.22467982409189557\n",
      "Cost after step 105: 0.2195121971936551\n",
      "Cost after step 110: 0.21478899880297042\n",
      "Cost after step 115: 0.2104683286222263\n",
      "Cost after step 120: 0.2065141360890006\n",
      "Cost after step 125: 0.2028947664274765\n",
      "Cost after step 130: 0.19958188353701556\n",
      "Cost after step 135: 0.19654968891367608\n",
      "Cost after step 140: 0.19377437311017154\n",
      "Cost after step 145: 0.19123374721608033\n",
      "Cost after step 150: 0.1889070097698088\n",
      "Cost after step 155: 0.18677461124216355\n",
      "Cost after step 160: 0.1848181845691942\n",
      "Cost after step 165: 0.18302051634984884\n",
      "Cost after step 170: 0.18136553915382092\n",
      "Cost after step 175: 0.17983833070611743\n",
      "Cost after step 180: 0.17842511034800168\n",
      "Cost after step 185: 0.17711322700900367\n",
      "Cost after step 190: 0.17589113593028594\n",
      "Cost after step 195: 0.17474836359283796\n",
      "Cost after step 200: 0.17367546180986415\n",
      "Cost after step 205: 0.17266395285595681\n",
      "Cost after step 210: 0.171706267950413\n",
      "Cost after step 215: 0.1707956815105156\n",
      "Cost after step 220: 0.16992624345133245\n",
      "Cost after step 225: 0.16909271152358052\n",
      "Cost after step 230: 0.16829048532197155\n",
      "Cost after step 235: 0.16751554321643147\n",
      "Cost after step 240: 0.1667643830937896\n",
      "Cost after step 245: 0.16603396747054067\n",
      "Cost after step 250: 0.1653216732595032\n",
      "Cost after step 255: 0.1646252462486334\n",
      "Cost after step 260: 0.16394276017751142\n",
      "Cost after step 265: 0.16327258017136237\n",
      "Cost after step 270: 0.16261333020779067\n",
      "Cost after step 275: 0.16196386424079956\n",
      "Cost after step 280: 0.16132324058337255\n",
      "Cost after step 285: 0.16069069914800826\n",
      "Cost after step 290: 0.16006564115846922\n",
      "Cost after step 295: 0.1594476109714963\n",
      "Cost after step 300: 0.15883627968022096\n",
      "Cost after step 305: 0.158231430208992\n",
      "Cost after step 310: 0.15763294364943348\n",
      "Cost after step 315: 0.15704078662836418\n",
      "Cost after step 320: 0.15645499953800157\n",
      "Cost after step 325: 0.1558756854966219\n",
      "Cost after step 330: 0.15530299994265084\n",
      "Cost after step 335: 0.15473714079647727\n",
      "Cost after step 340: 0.1541783391514061\n",
      "Cost after step 345: 0.15362685047807667\n",
      "Cost after step 350: 0.15308294634494035\n",
      "Cost after step 355: 0.15254690667119797\n",
      "Cost after step 360: 0.1520190125378864\n",
      "Cost after step 365: 0.15149953958792461\n",
      "Cost after step 370: 0.15098875204719986\n",
      "Cost after step 375: 0.15048689739657095\n",
      "Cost after step 380: 0.14999420171959676\n",
      "Cost after step 385: 0.14951086574347294\n",
      "Cost after step 390: 0.14903706158149677\n",
      "Cost after step 395: 0.14857293017527018\n",
      "Cost after step 400: 0.14811857942416307\n",
      "Cost after step 405: 0.14767408297900297\n",
      "Cost after step 410: 0.14723947966686735\n",
      "Cost after step 415: 0.14681477350490435\n",
      "Cost after step 420: 0.14639993425324127\n",
      "Cost after step 425: 0.14599489845093527\n",
      "Cost after step 430: 0.14559957087435438\n",
      "Cost after step 435: 0.145213826354596\n",
      "Cost after step 440: 0.14483751188948146\n",
      "Cost after step 445: 0.14447044898624528\n",
      "Cost after step 450: 0.14411243617299652\n",
      "Cost after step 455: 0.14376325162036951\n",
      "Cost after step 460: 0.14342265581907632\n",
      "Cost after step 465: 0.14309039426424075\n",
      "Cost after step 470: 0.1427662001030766\n",
      "Cost after step 475: 0.1424497967085362\n",
      "Cost after step 480: 0.1421409001476992\n",
      "Cost after step 485: 0.14183922151975226\n",
      "Cost after step 490: 0.14154446914424912\n",
      "Cost after step 495: 0.14125635058579022\n",
      "Cost after step 500: 0.14097457450624962\n"
     ]
    }
   ],
   "source": [
    "res2,c2 = main_train(n_comp=4,input_data=X_train,model=\"B\",optimizer=\"GradientDescent\") "
   ]
  },
  {
   "cell_type": "code",
   "execution_count": 21,
   "metadata": {},
   "outputs": [
    {
     "data": {
      "image/png": "[encoded data removed]",
      "text/plain": [
       "<Figure size 432x288 with 1 Axes>"
      ]
     },
     "metadata": {
      "needs_background": "light"
     },
     "output_type": "display_data"
    },
    {
     "data": {
      "text/plain": [
       "None"
      ]
     },
     "metadata": {},
     "output_type": "display_data"
    }
   ],
   "source": [
    "x2 =np.linspace(1, len(c2), len(c2))\n",
    "plt.plot(x2, c2)\n",
    "plt.title(\"Optimization of Cost\")\n",
    "plt.xlabel(\"Number of cost function evalutions\")\n",
    "plt.ylabel(\"Cost Function Value (1-C_2)\")\n",
    "plt.yscale(\"log\")\n",
    "display(plt.show())"
   ]
  },
  {
   "cell_type": "code",
   "execution_count": 23,
   "metadata": {},
   "outputs": [
    {
     "name": "stdout",
     "output_type": "stream",
     "text": [
      "Input data, before encode:\n"
     ]
    },
    {
     "data": {
      "image/png": "[encoded data removed]",
      "text/plain": [
       "<Figure size 360x288 with 3 Axes>"
      ]
     },
     "metadata": {
      "needs_background": "light"
     },
     "output_type": "display_data"
    },
    {
     "name": "stdout",
     "output_type": "stream",
     "text": [
      "Output data, after decode:\n"
     ]
    },
    {
     "data": {
      "image/png": "[encoded data removed]",
      "text/plain": [
       "<Figure size 360x288 with 3 Axes>"
      ]
     },
     "metadata": {
      "needs_background": "light"
     },
     "output_type": "display_data"
    }
   ],
   "source": [
    "X_test_decode = []\n",
    "for j in range(len(X_test)):\n",
    "    X_test_decode.append(list(main_test(n_comp=4,params=res2,input_data=X_test[j],model=\"B\")))\n",
    "\n",
    "plt.figure(figsize=(5,4))\n",
    "print(\"Input data, before encode:\")\n",
    "for index, (image, label) in enumerate(zip(X_test, y_test)):\n",
    "    plt.subplot(1, 3, index + 1)\n",
    "    plt.imshow(np.reshape(image, (8,8)), cmap=plt.cm.gray)\n",
    "plt.show()\n",
    "\n",
    "plt.figure(figsize=(5,4))\n",
    "print(\"Output data, after decode:\")\n",
    "for index, (image, label) in enumerate(zip(X_test_decode, y_test)):\n",
    "    plt.subplot(1, 3, index + 1)\n",
    "    plt.imshow(np.reshape(image, (8,8)), cmap=plt.cm.gray)\n",
    "plt.show()"
   ]
  },
  {
   "cell_type": "code",
   "execution_count": null,
   "metadata": {},
   "outputs": [],
   "source": []
  },
  {
   "cell_type": "markdown",
   "metadata": {},
   "source": [
    "### Scaling of parameters"
   ]
  },
  {
   "cell_type": "code",
   "execution_count": null,
   "metadata": {
    "scrolled": true
   },
   "outputs": [],
   "source": [
    "print(\"Number of parameters needed for methods A and B:\")\n",
    "for i in range(2,10):\n",
    "    print(f\"n = {i}, A: {int(15*i*(i-1)/2)}, \\tB: {3*i*(i-1)+6*i}\")"
   ]
  }
 ],
 "metadata": {
  "kernelspec": {
   "display_name": "Python 3",
   "language": "python",
   "name": "python3"
  },
  "language_info": {
   "codemirror_mode": {
    "name": "ipython",
    "version": 3
   },
   "file_extension": ".py",
   "mimetype": "text/x-python",
   "name": "python",
   "nbconvert_exporter": "python",
   "pygments_lexer": "ipython3",
   "version": "3.7.1"
  }
 },
 "nbformat": 4,
 "nbformat_minor": 2
}
